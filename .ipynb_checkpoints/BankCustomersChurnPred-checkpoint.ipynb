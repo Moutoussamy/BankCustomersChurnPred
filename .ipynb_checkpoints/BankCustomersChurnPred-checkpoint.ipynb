{
 "cells": [
  {
   "cell_type": "markdown",
   "metadata": {},
   "source": [
    "# Predicting Churn for Bank Customers\n",
    "\n",
    "## Author: Emmanuel Edouard Moutoussamy (https://tinyurl.com/3f7ddem8)\n",
    "\n",
    "The goal of this project is to (1) detect the descriptor that influence the costumer churn and (2) build a model to predict the costumer churn.\n",
    "\n",
    "### What is costumer churn ?\n",
    "\n",
    "\n",
    "Summary:\n",
    "- Data exploration\n",
    "- Data preprocessing\n",
    "- Modeling"
   ]
  },
  {
   "cell_type": "code",
   "execution_count": null,
   "metadata": {},
   "outputs": [],
   "source": []
  }
 ],
 "metadata": {
  "kernelspec": {
   "display_name": "Python 3",
   "language": "python",
   "name": "python3"
  },
  "language_info": {
   "codemirror_mode": {
    "name": "ipython",
    "version": 3
   },
   "file_extension": ".py",
   "mimetype": "text/x-python",
   "name": "python",
   "nbconvert_exporter": "python",
   "pygments_lexer": "ipython3",
   "version": "3.7.0"
  }
 },
 "nbformat": 4,
 "nbformat_minor": 2
}
